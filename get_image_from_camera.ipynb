{
 "cells": [
  {
   "cell_type": "code",
   "execution_count": 2,
   "metadata": {},
   "outputs": [
    {
     "name": "stdout",
     "output_type": "stream",
     "text": [
      "40.535542726516724\n",
      "(1080, 1920, 3)\n"
     ]
    }
   ],
   "source": [
    "import cv2 \n",
    "import numpy as np\n",
    "import copy\n",
    "from time import time\n",
    "\n",
    "  \n",
    "# define a video capture object \n",
    "vid = cv2.VideoCapture(0) \n",
    "\n",
    "vid.set(cv2.CAP_PROP_FRAME_WIDTH, 1920)\n",
    "\n",
    "vid.set(cv2.CAP_PROP_FRAME_HEIGHT, 1080)\n",
    "\n",
    "\n",
    "film = []\n",
    "  \n",
    "now = time()\n",
    "\n",
    "while(True):\n",
    "\n",
    "    ret, frame = vid.read() \n",
    "    frame = cv2.resize(frame, dsize=(1920, 1080), interpolation=cv2.INTER_CUBIC)\n",
    "\n",
    "    film.append(np.array(np.multiply(frame, 0.25), dtype=np.uint8))\n",
    "\n",
    "    if len(film) < 120:\n",
    "        continue\n",
    "\n",
    "    out_frame = film[-1]\n",
    "\n",
    "    if len(film) > 40:\n",
    "        out_frame = np.add(out_frame, film[len(film) - 19])\n",
    " \n",
    "\n",
    "    if len(film) > 80:\n",
    "        out_frame = np.add(out_frame, film[len(film) - 39])\n",
    "        \n",
    "\n",
    "    if len(film) > 120:\n",
    "        out_frame = np.add(out_frame, film[len(film) - 39])\n",
    "        film.pop(0)\n",
    "   \n",
    "    out_frame = np.where(out_frame > 255, 255, out_frame)\n",
    "\n",
    "    cv2.imshow('out_frame', out_frame)  \n",
    "    cv2.resizeWindow(\"out_frame\", 1920, 1080) \n",
    "\n",
    "    if cv2.waitKey(int(1000/60)) & 0xFF == ord('q'): \n",
    "        break\n",
    "\n",
    "\n",
    "  \n",
    "print(time() - now)\n",
    "# After the loop release the cap object \n",
    "vid.release() \n",
    "print(film[0].shape)\n",
    "# Destroy all the windows \n",
    "cv2.destroyAllWindows()"
   ]
  }
 ],
 "metadata": {
  "kernelspec": {
   "display_name": "3.11_ml",
   "language": "python",
   "name": "python3"
  },
  "language_info": {
   "codemirror_mode": {
    "name": "ipython",
    "version": 3
   },
   "file_extension": ".py",
   "mimetype": "text/x-python",
   "name": "python",
   "nbconvert_exporter": "python",
   "pygments_lexer": "ipython3",
   "version": "3.12.1"
  }
 },
 "nbformat": 4,
 "nbformat_minor": 2
}
